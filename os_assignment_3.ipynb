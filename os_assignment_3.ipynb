{
 "cells": [
  {
   "cell_type": "markdown",
   "id": "a651053d",
   "metadata": {},
   "source": [
    "# block 1"
   ]
  },
  {
   "cell_type": "markdown",
   "id": "572d2906",
   "metadata": {},
   "source": [
    "Defining Page/frame table"
   ]
  },
  {
   "cell_type": "code",
   "execution_count": 5,
   "id": "0824e347",
   "metadata": {},
   "outputs": [],
   "source": [
    "page_and_frame_table = {\n",
    "    0x01: 0x05,  # Page 0x01 maps to frame 0x05\n",
    "    0x02: 0x0A,  # Page 0x02 maps to frame 0x0A\n",
    "    0x03: 0x03,  # Page 0x03 maps to frame 0x03\n",
    "    0x04: 0x09,  # Page 0x04 maps to frame 0x09\n",
    "    0x05: 0x04,  # Page 0x05 maps to frame 0x04\n",
    "}"
   ]
  },
  {
   "cell_type": "markdown",
   "id": "0b14c902",
   "metadata": {},
   "source": [
    "# defining page size"
   ]
  },
  {
   "cell_type": "code",
   "execution_count": 6,
   "id": "da3a5c18",
   "metadata": {},
   "outputs": [],
   "source": [
    "size_of_page = 0*100"
   ]
  },
  {
   "cell_type": "markdown",
   "id": "670329a4",
   "metadata": {},
   "source": [
    "# translating  logical addresses to physical addresses"
   ]
  },
  {
   "cell_type": "code",
   "execution_count": 23,
   "id": "75cdcf22",
   "metadata": {},
   "outputs": [],
   "source": [
    "def logical_to_physical(lgcl_addrs):\n",
    "    page_num = lgcl_addrs >> 8  # Extracting page num from logical address\n",
    "    off_set = lgcl_addrs & 0xFF  # Extract the offset from the logical address\n",
    "    \n",
    "    # Check if the page number exists in the page/frame table\n",
    "    if page_num in page_frame_table:\n",
    "        frame_number = page_frame_table[page_num]  # Get the corresponding frame number\n",
    "        physical_address = (frame_number << 8) | offset  # Combine the frame number and offset to form the physical address\n",
    "        return f\"Physical Address: 0x{physical_address:X}\"\n",
    "    else:\n",
    "        return \"page is not found in the memory. please try again\"\n"
   ]
  },
  {
   "cell_type": "code",
   "execution_count": 17,
   "id": "4bea8463",
   "metadata": {},
   "outputs": [],
   "source": [
    "# function to get page numbers and offsets\n",
    "def get_page_num_and_offsets(lgcl_addrs):\n",
    "    for address in lgcl_addrs:\n",
    "        page_num = address >> 8  # Get the page number from the logical address\n",
    "        off_set = address & 0xFF  # Get the offset from the logical address\n",
    "        print(f\"Logical Address: 0x{address:X} => Page Number: 0x{page_num:X}, Offset: 0x{off_set:X}\")\n"
   ]
  },
  {
   "cell_type": "code",
   "execution_count": 9,
   "id": "1bf31dd7",
   "metadata": {},
   "outputs": [],
   "source": [
    "# input\n",
    "lgcl_addrs = [0x3A7F, 0xABCD, 0x5678]"
   ]
  },
  {
   "cell_type": "code",
   "execution_count": 18,
   "id": "0383307d",
   "metadata": {},
   "outputs": [
    {
     "name": "stdout",
     "output_type": "stream",
     "text": [
      "Logical Address: 0x3A7F => Page Number: 0x3A, Offset: 0x7F\n",
      "Logical Address: 0xABCD => Page Number: 0xAB, Offset: 0xCD\n",
      "Logical Address: 0x5678 => Page Number: 0x56, Offset: 0x78\n"
     ]
    }
   ],
   "source": [
    "get_page_num_and_offsets(lgcl_addrs)"
   ]
  },
  {
   "cell_type": "code",
   "execution_count": 24,
   "id": "4d0959ec",
   "metadata": {},
   "outputs": [
    {
     "name": "stdout",
     "output_type": "stream",
     "text": [
      "Logical Address: 0x3A7F => page is not found in the memory. please try again\n",
      "Logical Address: 0xABCD => page is not found in the memory. please try again\n",
      "Logical Address: 0x5678 => page is not found in the memory. please try again\n"
     ]
    }
   ],
   "source": [
    "for address in lgcl_addrs:\n",
    "    try:\n",
    "        print(f\"Logical Address: 0x{address:X} => {logical_to_physical(address)}\")\n",
    "    except ValueError as e:\n",
    "        print(f\"Logical Address: 0x{address:X} => Error: {e}\")"
   ]
  }
 ],
 "metadata": {
  "kernelspec": {
   "display_name": "Python 3 (ipykernel)",
   "language": "python",
   "name": "python3"
  },
  "language_info": {
   "codemirror_mode": {
    "name": "ipython",
    "version": 3
   },
   "file_extension": ".py",
   "mimetype": "text/x-python",
   "name": "python",
   "nbconvert_exporter": "python",
   "pygments_lexer": "ipython3",
   "version": "3.9.13"
  }
 },
 "nbformat": 4,
 "nbformat_minor": 5
}
